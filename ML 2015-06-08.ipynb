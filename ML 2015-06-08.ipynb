{
 "cells": [
  {
   "cell_type": "markdown",
   "metadata": {},
   "source": [
    "Experiments with ML algorithms to predict rating"
   ]
  },
  {
   "cell_type": "code",
   "execution_count": 2,
   "metadata": {
    "collapsed": true
   },
   "outputs": [],
   "source": [
    "%matplotlib inline\n",
    "import matplotlib.pyplot as plt\n",
    "from learning import *\n",
    "import db\n",
    "import pandas as pd\n",
    "import sklearn as skl\n",
    "import sklearn.linear_model\n",
    "import sklearn.metrics\n",
    "import sklearn.pipeline\n",
    "import sklearn.dummy\n",
    "import pickle"
   ]
  },
  {
   "cell_type": "code",
   "execution_count": 9,
   "metadata": {
    "collapsed": false
   },
   "outputs": [],
   "source": [
    "engine = db.create_root_engine()\n",
    "rawtable = pd.io.sql.read_sql_table('listings', engine, index_col='id')\n",
    "Xtr, Xte, ytr, yte = get_training_test_set(rawtable)"
   ]
  },
  {
   "cell_type": "code",
   "execution_count": 10,
   "metadata": {
    "collapsed": false
   },
   "outputs": [
    {
     "data": {
      "text/plain": [
       "array([ 0.05555556,  0.39716312,  0.72576177])"
      ]
     },
     "execution_count": 10,
     "metadata": {},
     "output_type": "execute_result"
    }
   ],
   "source": [
    "clf1 = skl.linear_model.LogisticRegression(multi_class='ovr', C=0.010)\n",
    "pipe1 = skl.pipeline.Pipeline([('scale', skl.preprocessing.StandardScaler()), ('clf', clf1)])\n",
    "\n",
    "pipe1.fit(Xtr, ytr)\n",
    "skl.metrics.f1_score(yte, pipe1.predict(Xte), average=None)"
   ]
  },
  {
   "cell_type": "markdown",
   "metadata": {},
   "source": [
    "Compare to model that knows nothing"
   ]
  },
  {
   "cell_type": "code",
   "execution_count": 17,
   "metadata": {
    "collapsed": false
   },
   "outputs": [
    {
     "data": {
      "text/plain": [
       "array([ 0.10126582,  0.33423181,  0.55932203])"
      ]
     },
     "execution_count": 17,
     "metadata": {},
     "output_type": "execute_result"
    }
   ],
   "source": [
    "# With low statistics, the score varies a lot between runs\n",
    "clf_dummy = skl.dummy.DummyClassifier(strategy='stratified')\n",
    "clf_dummy.fit(Xtr, ytr)\n",
    "skl.metrics.f1_score(yte, clf_dummy.predict(Xte), average=None)"
   ]
  },
  {
   "cell_type": "code",
   "execution_count": 6,
   "metadata": {
    "collapsed": false
   },
   "outputs": [
    {
     "data": {
      "text/plain": [
       "5-      282\n",
       "4.5-    193\n",
       "4-       45\n",
       "dtype: int64"
      ]
     },
     "execution_count": 6,
     "metadata": {},
     "output_type": "execute_result"
    }
   ],
   "source": [
    "pd.Series(clf_dummy.predict(Xte)).value_counts()"
   ]
  },
  {
   "cell_type": "code",
   "execution_count": 18,
   "metadata": {
    "collapsed": true
   },
   "outputs": [
    {
     "data": {
      "text/plain": [
       "array([[ -1.69905725e-01,  -3.69939194e-02,  -1.67996142e-02,\n",
       "          0.00000000e+00,   6.01639104e-02,   0.00000000e+00,\n",
       "         -4.05449145e-02,   0.00000000e+00,   1.33595622e-02,\n",
       "         -5.88395693e-02,  -4.43512366e-02,   7.91621711e-02,\n",
       "          0.00000000e+00,   1.61144083e-02,   0.00000000e+00,\n",
       "         -2.48033714e-02,   3.78643638e-02,   3.99267326e-02,\n",
       "         -8.61958592e-03,   3.87084779e-02,   3.23992554e-02,\n",
       "          1.90801151e-02,  -4.46649767e-03,   0.00000000e+00,\n",
       "          0.00000000e+00,   0.00000000e+00,   0.00000000e+00,\n",
       "          0.00000000e+00,   0.00000000e+00,   0.00000000e+00,\n",
       "          0.00000000e+00,   0.00000000e+00,   0.00000000e+00,\n",
       "          0.00000000e+00,   0.00000000e+00,   0.00000000e+00,\n",
       "          0.00000000e+00,   0.00000000e+00,   0.00000000e+00,\n",
       "          0.00000000e+00,   0.00000000e+00,   0.00000000e+00,\n",
       "          0.00000000e+00,   0.00000000e+00,   0.00000000e+00,\n",
       "          0.00000000e+00,   0.00000000e+00,   0.00000000e+00,\n",
       "          0.00000000e+00,   0.00000000e+00,  -1.63568172e-02,\n",
       "         -2.82078570e-02,   6.70420222e-02,   4.25435058e-02,\n",
       "          0.00000000e+00,  -5.22545270e-02,   3.82519586e-02,\n",
       "          2.23774405e-02,  -6.33052601e-02,  -7.23506175e-02,\n",
       "          3.54193976e-03,  -4.24721591e-02,   1.44579241e-02,\n",
       "          2.95904326e-03,   2.28064677e-02,   6.83816910e-03,\n",
       "         -5.62762384e-02,   6.54992471e-02,   1.32165362e-02,\n",
       "          2.74365711e-03,  -2.78906818e-02,  -2.78906818e-02,\n",
       "         -8.02460789e-02,  -1.78860419e-01],\n",
       "       [  6.49826760e-02,  -2.99305936e-02,  -8.24418832e-02,\n",
       "          0.00000000e+00,  -6.77463753e-02,   0.00000000e+00,\n",
       "         -1.77293982e-02,   0.00000000e+00,  -3.53546480e-02,\n",
       "         -5.94847993e-02,   4.06437302e-02,  -2.48139502e-03,\n",
       "          0.00000000e+00,   2.23014342e-02,   0.00000000e+00,\n",
       "          9.37133111e-02,   2.56745487e-02,   5.07797012e-02,\n",
       "          1.91413257e-02,   1.35717553e-02,   5.32461270e-02,\n",
       "         -1.17409323e-01,   3.40472885e-02,   0.00000000e+00,\n",
       "          0.00000000e+00,   0.00000000e+00,   0.00000000e+00,\n",
       "          0.00000000e+00,   0.00000000e+00,   0.00000000e+00,\n",
       "          0.00000000e+00,   0.00000000e+00,   0.00000000e+00,\n",
       "          0.00000000e+00,   0.00000000e+00,   0.00000000e+00,\n",
       "          0.00000000e+00,   0.00000000e+00,   0.00000000e+00,\n",
       "          0.00000000e+00,   0.00000000e+00,   0.00000000e+00,\n",
       "          0.00000000e+00,   0.00000000e+00,   0.00000000e+00,\n",
       "          0.00000000e+00,   0.00000000e+00,   0.00000000e+00,\n",
       "          0.00000000e+00,   0.00000000e+00,   1.85835161e-02,\n",
       "          9.37197002e-04,   1.16634944e-03,   3.92638934e-02,\n",
       "          0.00000000e+00,   5.67969025e-02,   1.26183798e-01,\n",
       "         -1.02644445e-01,  -8.56623580e-02,   1.45396563e-02,\n",
       "          2.79406479e-02,  -5.22039575e-02,   2.59636055e-02,\n",
       "          2.46542624e-02,   8.46576351e-02,   4.21743249e-02,\n",
       "         -3.86338560e-02,  -1.70311333e-02,  -9.94299109e-02,\n",
       "         -1.45133907e-01,  -1.38773937e-01,  -1.38773937e-01,\n",
       "          1.40613485e-04,   1.18696760e-01],\n",
       "       [  7.80516048e-02,   5.26735681e-02,   9.23790499e-02,\n",
       "          0.00000000e+00,   2.40524307e-02,   0.00000000e+00,\n",
       "          4.65333416e-02,   0.00000000e+00,   3.03257412e-02,\n",
       "          9.77644713e-02,  -3.63654542e-03,  -5.71231957e-02,\n",
       "          0.00000000e+00,  -3.75301237e-02,   0.00000000e+00,\n",
       "         -7.40889259e-02,  -5.29201526e-02,  -7.92620798e-02,\n",
       "         -1.42423841e-02,  -4.64069721e-02,  -7.69303649e-02,\n",
       "          1.02082909e-01,  -2.88164837e-02,   0.00000000e+00,\n",
       "          0.00000000e+00,   0.00000000e+00,   0.00000000e+00,\n",
       "          0.00000000e+00,   0.00000000e+00,   0.00000000e+00,\n",
       "          0.00000000e+00,   0.00000000e+00,   0.00000000e+00,\n",
       "          0.00000000e+00,   0.00000000e+00,   0.00000000e+00,\n",
       "          0.00000000e+00,   0.00000000e+00,   0.00000000e+00,\n",
       "          0.00000000e+00,   0.00000000e+00,   0.00000000e+00,\n",
       "          0.00000000e+00,   0.00000000e+00,   0.00000000e+00,\n",
       "          0.00000000e+00,   0.00000000e+00,   0.00000000e+00,\n",
       "          0.00000000e+00,   0.00000000e+00,  -5.63940216e-03,\n",
       "          2.23183736e-02,  -6.06556623e-02,  -6.84152449e-02,\n",
       "          0.00000000e+00,  -7.97076337e-03,  -1.57207491e-01,\n",
       "          8.19380502e-02,   1.32042908e-01,   3.76559753e-02,\n",
       "         -3.04141195e-02,   8.04881830e-02,  -3.81124749e-02,\n",
       "         -2.62095551e-02,  -1.02195177e-01,  -4.65779460e-02,\n",
       "          7.27130257e-02,  -3.18296000e-02,   8.78672807e-02,\n",
       "          1.48791641e-01,   1.52823827e-01,   1.52823827e-01,\n",
       "          5.94207196e-02,  -6.06379532e-03]])"
      ]
     },
     "execution_count": 18,
     "metadata": {},
     "output_type": "execute_result"
    }
   ],
   "source": [
    "clf1.coef_"
   ]
  },
  {
   "cell_type": "code",
   "execution_count": 19,
   "metadata": {
    "collapsed": true
   },
   "outputs": [],
   "source": [
    "pickle.dump(clf1, open(\"clf1.pkl\", \"wb\"))"
   ]
  }
 ],
 "metadata": {
  "kernelspec": {
   "display_name": "Python 3",
   "language": "python",
   "name": "python3"
  },
  "language_info": {
   "codemirror_mode": {
    "name": "ipython",
    "version": 3
   },
   "file_extension": ".py",
   "mimetype": "text/x-python",
   "name": "python",
   "nbconvert_exporter": "python",
   "pygments_lexer": "ipython3",
   "version": "3.4.3"
  }
 },
 "nbformat": 4,
 "nbformat_minor": 0
}
