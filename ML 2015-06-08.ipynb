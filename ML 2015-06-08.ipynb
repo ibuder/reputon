{
 "cells": [
  {
   "cell_type": "markdown",
   "metadata": {},
   "source": [
    "Experiments with ML algorithms to predict rating"
   ]
  },
  {
   "cell_type": "code",
   "execution_count": 1,
   "metadata": {
    "collapsed": true
   },
   "outputs": [],
   "source": [
    "%matplotlib inline\n",
    "import matplotlib.pyplot as plt\n",
    "from learning import *\n",
    "import db\n",
    "import pandas as pd\n",
    "import sklearn as skl\n",
    "import sklearn.linear_model\n",
    "import sklearn.metrics\n",
    "import sklearn.pipeline\n",
    "import sklearn.dummy\n",
    "import pickle"
   ]
  },
  {
   "cell_type": "code",
   "execution_count": 15,
   "metadata": {
    "collapsed": false
   },
   "outputs": [],
   "source": [
    "engine = db.create_root_engine()\n",
    "rawtable = pd.io.sql.read_sql_table('listings', engine, index_col='id')\n",
    "Xtr, Xte, ytr, yte = get_training_test_set(rawtable)"
   ]
  },
  {
   "cell_type": "code",
   "execution_count": 16,
   "metadata": {
    "collapsed": false
   },
   "outputs": [
    {
     "data": {
      "text/plain": [
       "array([ 0.07407407,  0.35451505,  0.68704512])"
      ]
     },
     "execution_count": 16,
     "metadata": {},
     "output_type": "execute_result"
    }
   ],
   "source": [
    "clf1 = skl.linear_model.LogisticRegression(multi_class='ovr', C=0.010)\n",
    "pipe1 = skl.pipeline.Pipeline([('scale', skl.preprocessing.StandardScaler()), ('clf', clf1)])\n",
    "\n",
    "pipe1.fit(Xtr, ytr)\n",
    "skl.metrics.f1_score(yte, pipe1.predict(Xte), average=None)"
   ]
  },
  {
   "cell_type": "markdown",
   "metadata": {},
   "source": [
    "Compare to model that knows nothing"
   ]
  },
  {
   "cell_type": "code",
   "execution_count": 17,
   "metadata": {
    "collapsed": false
   },
   "outputs": [
    {
     "data": {
      "text/plain": [
       "array([ 0.02702703,  0.36604775,  0.56706282])"
      ]
     },
     "execution_count": 17,
     "metadata": {},
     "output_type": "execute_result"
    }
   ],
   "source": [
    "# With low statistics, the score varies a lot between runs\n",
    "clf_dummy = skl.dummy.DummyClassifier(strategy='stratified')\n",
    "clf_dummy.fit(Xtr, ytr)\n",
    "skl.metrics.f1_score(yte, clf_dummy.predict(Xte), average=None)"
   ]
  },
  {
   "cell_type": "code",
   "execution_count": 18,
   "metadata": {
    "collapsed": false
   },
   "outputs": [
    {
     "data": {
      "text/plain": [
       "5-      314\n",
       "4.5-    166\n",
       "4-       40\n",
       "dtype: int64"
      ]
     },
     "execution_count": 18,
     "metadata": {},
     "output_type": "execute_result"
    }
   ],
   "source": [
    "pd.Series(clf_dummy.predict(Xte)).value_counts()"
   ]
  },
  {
   "cell_type": "code",
   "execution_count": 19,
   "metadata": {
    "collapsed": false
   },
   "outputs": [
    {
     "data": {
      "text/plain": [
       "array([[-0.20378085, -0.00035821, -0.01530355,  0.        ,  0.02573346,\n",
       "         0.        , -0.04655954,  0.        ,  0.00281321, -0.04757914,\n",
       "        -0.04598074,  0.05538876,  0.        ,  0.00755801,  0.        ,\n",
       "        -0.0506342 ,  0.03754078,  0.00726907, -0.02412933,  0.04870713,\n",
       "         0.01797083,  0.02813575, -0.02808921,  0.        ,  0.        ,\n",
       "         0.        ,  0.        ,  0.        ,  0.        ,  0.        ,\n",
       "         0.        ,  0.        ,  0.        ,  0.        ,  0.        ,\n",
       "         0.        ,  0.        ,  0.        ,  0.        ,  0.        ,\n",
       "         0.        ,  0.        ,  0.        ,  0.        ,  0.        ,\n",
       "         0.        ,  0.        ,  0.        ,  0.        ,  0.        ,\n",
       "        -0.00332086, -0.02933603,  0.07372217,  0.05944929,  0.        ,\n",
       "        -0.05430677,  0.04149629, -0.01364106, -0.03307011, -0.06245472,\n",
       "        -0.00565627, -0.04632072,  0.03012569,  0.00359361,  0.0013435 ,\n",
       "        -0.00786714, -0.08942524,  0.09286   , -0.01672338,  0.01274604,\n",
       "        -0.03788778, -0.03788778, -0.06062926, -0.17092612],\n",
       "       [ 0.05342398, -0.05272735, -0.07148072,  0.        , -0.05096   ,\n",
       "         0.        ,  0.01487802,  0.        , -0.02261933, -0.08493433,\n",
       "         0.02679642,  0.03178236,  0.        , -0.00756203,  0.        ,\n",
       "         0.06969274, -0.00021408,  0.01193484,  0.04194729, -0.00037595,\n",
       "         0.06898091, -0.12155232,  0.07730744,  0.        ,  0.        ,\n",
       "         0.        ,  0.        ,  0.        ,  0.        ,  0.        ,\n",
       "         0.        ,  0.        ,  0.        ,  0.        ,  0.        ,\n",
       "         0.        ,  0.        ,  0.        ,  0.        ,  0.        ,\n",
       "         0.        ,  0.        ,  0.        ,  0.        ,  0.        ,\n",
       "         0.        ,  0.        ,  0.        ,  0.        ,  0.        ,\n",
       "        -0.01955538,  0.02200933,  0.02260135, -0.00313869,  0.        ,\n",
       "         0.06772157,  0.13624185, -0.15094169, -0.08952876, -0.00900631,\n",
       "         0.03804696, -0.02381278,  0.06842166,  0.0084418 ,  0.04366302,\n",
       "         0.02133178, -0.07013118, -0.05001417, -0.06818197, -0.15619547,\n",
       "        -0.09420682, -0.09420682, -0.05025968,  0.09762237],\n",
       "       [ 0.12255125,  0.04916835,  0.07988904,  0.        ,  0.0319917 ,\n",
       "         0.        ,  0.01782231,  0.        ,  0.02598191,  0.11367816,\n",
       "         0.00804495, -0.07144863,  0.        ,  0.00073619,  0.        ,\n",
       "        -0.02796851, -0.0271991 , -0.0169125 , -0.03255521, -0.03692153,\n",
       "        -0.08311648,  0.09941263, -0.04239641,  0.        ,  0.        ,\n",
       "         0.        ,  0.        ,  0.        ,  0.        ,  0.        ,\n",
       "         0.        ,  0.        ,  0.        ,  0.        ,  0.        ,\n",
       "         0.        ,  0.        ,  0.        ,  0.        ,  0.        ,\n",
       "         0.        ,  0.        ,  0.        ,  0.        ,  0.        ,\n",
       "         0.        ,  0.        ,  0.        ,  0.        ,  0.        ,\n",
       "         0.02301669,  0.00641862, -0.09471826, -0.03947654,  0.        ,\n",
       "        -0.01844171, -0.16915375,  0.15818558,  0.10771755,  0.05169339,\n",
       "        -0.0355307 ,  0.05565866, -0.09026445, -0.01240291, -0.04565641,\n",
       "        -0.0190096 ,  0.12750178, -0.02745036,  0.07982765,  0.13830031,\n",
       "         0.11953819,  0.11953819,  0.09549197,  0.01070369]])"
      ]
     },
     "execution_count": 19,
     "metadata": {},
     "output_type": "execute_result"
    }
   ],
   "source": [
    "clf1.coef_"
   ]
  },
  {
   "cell_type": "code",
   "execution_count": 7,
   "metadata": {
    "collapsed": true
   },
   "outputs": [],
   "source": [
    "pickle.dump(clf1, open(\"clf1.pkl\", \"wb\"))"
   ]
  },
  {
   "cell_type": "code",
   "execution_count": 20,
   "metadata": {
    "collapsed": false
   },
   "outputs": [],
   "source": [
    "pickle.dump(pipe1, open(\"pipe1.pkl\", \"wb\"))"
   ]
  }
 ],
 "metadata": {
  "kernelspec": {
   "display_name": "Python 3",
   "language": "python",
   "name": "python3"
  },
  "language_info": {
   "codemirror_mode": {
    "name": "ipython",
    "version": 3
   },
   "file_extension": ".py",
   "mimetype": "text/x-python",
   "name": "python",
   "nbconvert_exporter": "python",
   "pygments_lexer": "ipython3",
   "version": "3.4.3"
  }
 },
 "nbformat": 4,
 "nbformat_minor": 0
}
