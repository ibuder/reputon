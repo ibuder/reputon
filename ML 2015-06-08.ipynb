{
 "cells": [
  {
   "cell_type": "markdown",
   "metadata": {},
   "source": [
    "Experiments with ML algorithms to predict rating"
   ]
  },
  {
   "cell_type": "code",
   "execution_count": 29,
   "metadata": {
    "collapsed": true
   },
   "outputs": [],
   "source": [
    "%matplotlib inline\n",
    "import matplotlib.pyplot as plt\n",
    "from learning import *\n",
    "import db\n",
    "import pandas as pd\n",
    "import sklearn as skl\n",
    "import sklearn.linear_model\n",
    "import sklearn.metrics\n",
    "import sklearn.pipeline\n",
    "import sklearn.dummy"
   ]
  },
  {
   "cell_type": "code",
   "execution_count": 8,
   "metadata": {
    "collapsed": false
   },
   "outputs": [],
   "source": [
    "engine = db.create_root_engine()\n",
    "rawtable = pd.io.sql.read_sql_table('listings', engine, index_col='id')\n",
    "Xtr, Xte, ytr, yte = get_training_test_set(rawtable)"
   ]
  },
  {
   "cell_type": "code",
   "execution_count": 92,
   "metadata": {
    "collapsed": false
   },
   "outputs": [
    {
     "data": {
      "text/plain": [
       "array([ 0.04878049,  0.40425532,  0.73361227])"
      ]
     },
     "execution_count": 92,
     "metadata": {},
     "output_type": "execute_result"
    }
   ],
   "source": [
    "clf1 = skl.linear_model.LogisticRegression(multi_class='ovr', C=0.010)\n",
    "pipe1 = skl.pipeline.Pipeline([('scale', skl.preprocessing.StandardScaler()), ('clf', clf1)])\n",
    "\n",
    "pipe1.fit(Xtr, ytr)\n",
    "skl.metrics.f1_score(yte, pipe1.predict(Xte), average=None)"
   ]
  },
  {
   "cell_type": "markdown",
   "metadata": {},
   "source": [
    "Compare to model that knows nothing"
   ]
  },
  {
   "cell_type": "code",
   "execution_count": 137,
   "metadata": {
    "collapsed": false
   },
   "outputs": [
    {
     "data": {
      "text/plain": [
       "array([ 0.02439024,  0.26553672,  0.55298013])"
      ]
     },
     "execution_count": 137,
     "metadata": {},
     "output_type": "execute_result"
    }
   ],
   "source": [
    "# With low statistics, the score varies a lot between runs\n",
    "clf_dummy = skl.dummy.DummyClassifier(strategy='stratified')\n",
    "clf_dummy.fit(Xtr, ytr)\n",
    "skl.metrics.f1_score(yte, clf_dummy.predict(Xte), average=None)"
   ]
  },
  {
   "cell_type": "code",
   "execution_count": null,
   "metadata": {
    "collapsed": true
   },
   "outputs": [],
   "source": []
  },
  {
   "cell_type": "code",
   "execution_count": 70,
   "metadata": {
    "collapsed": false
   },
   "outputs": [
    {
     "data": {
      "text/plain": [
       "5-      300\n",
       "4.5-    186\n",
       "4-       34\n",
       "dtype: int64"
      ]
     },
     "execution_count": 70,
     "metadata": {},
     "output_type": "execute_result"
    }
   ],
   "source": [
    "pd.Series(clf_dummy.predict(Xte)).value_counts()"
   ]
  }
 ],
 "metadata": {
  "kernelspec": {
   "display_name": "Python 3",
   "language": "python",
   "name": "python3"
  },
  "language_info": {
   "codemirror_mode": {
    "name": "ipython",
    "version": 3
   },
   "file_extension": ".py",
   "mimetype": "text/x-python",
   "name": "python",
   "nbconvert_exporter": "python",
   "pygments_lexer": "ipython3",
   "version": "3.4.3"
  }
 },
 "nbformat": 4,
 "nbformat_minor": 0
}
