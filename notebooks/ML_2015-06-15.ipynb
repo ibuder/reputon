{
 "cells": [
  {
   "cell_type": "code",
   "execution_count": 1,
   "metadata": {
    "collapsed": true
   },
   "outputs": [],
   "source": [
    "%matplotlib inline\n",
    "%config InlineBackend.figure_format='retina'\n",
    "import matplotlib\n",
    "import matplotlib.pyplot as plt\n",
    "import pandas as pd\n",
    "import seaborn as sns\n",
    "sns.set_context('notebook')\n",
    "sns.set_style('darkgrid')\n",
    "import sklearn as skl\n",
    "import sklearn.metrics\n",
    "import sklearn.learning_curve\n",
    "import sklearn.ensemble\n",
    "import sklearn.dummy\n",
    "import sklearn.grid_search\n",
    "import sklearn.feature_extraction\n",
    "import sklearn.feature_extraction.text\n",
    "import numpy as np\n",
    "\n",
    "import sys\n",
    "sys.path = sys.path + ['..']\n",
    "import get_airbnb_data\n",
    "import db\n",
    "import learning\n",
    "import imp\n",
    "imp.reload(learning)\n",
    "from learning import *"
   ]
  },
  {
   "cell_type": "code",
   "execution_count": 2,
   "metadata": {
    "collapsed": true
   },
   "outputs": [],
   "source": [
    "engine = db.create_root_engine()\n",
    "rawtable = pd.io.sql.read_sql_table('listings', engine, index_col='id')\n",
    "Xtr, Xte, ytr, yte = get_training_test_set(rawtable, make_features=make_features3, \n",
    "                                               categorize_rating=categorize_rating2)"
   ]
  },
  {
   "cell_type": "code",
   "execution_count": 4,
   "metadata": {
    "collapsed": false
   },
   "outputs": [],
   "source": [
    "import enchant"
   ]
  },
  {
   "cell_type": "code",
   "execution_count": 5,
   "metadata": {
    "collapsed": true
   },
   "outputs": [],
   "source": [
    "d = enchant.Dict(\"en_US\")"
   ]
  },
  {
   "cell_type": "code",
   "execution_count": 9,
   "metadata": {
    "collapsed": true
   },
   "outputs": [],
   "source": [
    "tokenizer = skl.feature_extraction.text.CountVectorizer().build_tokenizer()"
   ]
  },
  {
   "cell_type": "markdown",
   "metadata": {},
   "source": [
    "#TNT NAmed entity recognition\n",
    "http://textminingonline.com/how-to-use-stanford-named-entity-recognizer-ner-in-python-nltk-and-other-programming-languages"
   ]
  },
  {
   "cell_type": "code",
   "execution_count": 17,
   "metadata": {
    "collapsed": false
   },
   "outputs": [
    {
     "data": {
      "text/plain": [
       "{'24hr': False,\n",
       " 'AirBnB': False,\n",
       " 'BDFM': False,\n",
       " 'Highline': False,\n",
       " 'HouseRules': False,\n",
       " 'Javits': False,\n",
       " 'Koreatown': False,\n",
       " 'NEIGHBOURHOOD': False,\n",
       " 'NQR': False,\n",
       " 'Wifi': False,\n",
       " 'accomodate': False,\n",
       " 'isn': False,\n",
       " 'neighbours': False}"
      ]
     },
     "execution_count": 17,
     "metadata": {},
     "output_type": "execute_result"
    }
   ],
   "source": [
    "{word: d.check(word) for word in tokenizer(rawtable.description[2]) if not d.check(word)}"
   ]
  },
  {
   "cell_type": "markdown",
   "metadata": {},
   "source": [
    "Case-insensitive makes more false positives"
   ]
  },
  {
   "cell_type": "code",
   "execution_count": 18,
   "metadata": {
    "collapsed": false,
    "scrolled": false
   },
   "outputs": [
    {
     "data": {
      "text/plain": [
       "{'24hr': False,\n",
       " 'accomodate': False,\n",
       " 'airbnb': False,\n",
       " 'bdfm': False,\n",
       " 'brazil': False,\n",
       " 'chelsea': False,\n",
       " 'highline': False,\n",
       " 'houserules': False,\n",
       " 'isn': False,\n",
       " 'jacob': False,\n",
       " 'javits': False,\n",
       " 'joe': False,\n",
       " 'koreatown': False,\n",
       " 'macy': False,\n",
       " 'madison': False,\n",
       " 'mexico': False,\n",
       " 'neighbourhood': False,\n",
       " 'neighbours': False,\n",
       " 'nqr': False,\n",
       " 'ny': False,\n",
       " 'nyc': False,\n",
       " 'penn': False,\n",
       " 'portuguese': False,\n",
       " 'spanish': False,\n",
       " 'texas': False,\n",
       " 'wifi': False}"
      ]
     },
     "execution_count": 18,
     "metadata": {},
     "output_type": "execute_result"
    }
   ],
   "source": [
    "{word: d.check(word) for word in tokenizer(rawtable.description[2].lower()) if not d.check(word)}"
   ]
  }
 ],
 "metadata": {
  "kernelspec": {
   "display_name": "Python 3",
   "language": "python",
   "name": "python3"
  },
  "language_info": {
   "codemirror_mode": {
    "name": "ipython",
    "version": 3
   },
   "file_extension": ".py",
   "mimetype": "text/x-python",
   "name": "python",
   "nbconvert_exporter": "python",
   "pygments_lexer": "ipython3",
   "version": "3.4.3"
  }
 },
 "nbformat": 4,
 "nbformat_minor": 0
}
