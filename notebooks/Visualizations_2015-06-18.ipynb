{
 "cells": [
  {
   "cell_type": "code",
   "execution_count": 1,
   "metadata": {
    "collapsed": true
   },
   "outputs": [],
   "source": [
    "%matplotlib inline\n",
    "%config InlineBackend.figure_format='retina'\n",
    "import matplotlib\n",
    "import matplotlib.pyplot as plt\n",
    "import pandas as pd\n",
    "import seaborn as sns\n",
    "sns.set_context('notebook')\n",
    "sns.set_style('darkgrid')\n",
    "import sklearn as skl\n",
    "import sklearn.metrics\n",
    "import sklearn.learning_curve\n",
    "import sklearn.ensemble\n",
    "import sklearn.dummy\n",
    "import sklearn.grid_search\n",
    "import sklearn.feature_extraction\n",
    "import sklearn.feature_extraction.text\n",
    "import numpy as np\n",
    "\n",
    "import sys\n",
    "sys.path = sys.path + ['..']\n",
    "import get_airbnb_data\n",
    "import db\n",
    "import learning\n",
    "import imp\n",
    "imp.reload(learning)\n",
    "from learning import *"
   ]
  },
  {
   "cell_type": "code",
   "execution_count": 2,
   "metadata": {
    "collapsed": true
   },
   "outputs": [],
   "source": [
    "engine = db.create_root_engine()\n",
    "rawtable = pd.io.sql.read_sql_table('listings', engine, index_col='id')"
   ]
  },
  {
   "cell_type": "code",
   "execution_count": 7,
   "metadata": {
    "collapsed": false
   },
   "outputs": [
    {
     "data": {
      "text/plain": [
       "id\n",
       "air100002         4.5\n",
       "air1000083        4.5\n",
       "air1000186        4.5\n",
       "air1000199        4.7\n",
       "air1000202          5\n",
       "air1000264        4.5\n",
       "air100042           5\n",
       "air1000522          5\n",
       "air100074           4\n",
       "air1000755        4.5\n",
       "air1000871        3.5\n",
       "air100097           5\n",
       "air1000995    Unrated\n",
       "air1000998          5\n",
       "air1001065        4.5\n",
       "air1001139        4.5\n",
       "air1001145        4.5\n",
       "air1001147          5\n",
       "air1001160          5\n",
       "air1001265        4.5\n",
       "air1001273          4\n",
       "air1001294        4.5\n",
       "air1001353          5\n",
       "air1001367          5\n",
       "air1001405          4\n",
       "air100142         4.5\n",
       "air1001447          5\n",
       "air1001469          5\n",
       "air1001534          5\n",
       "air1001567          5\n",
       "               ...   \n",
       "air9985           4.5\n",
       "air998663           5\n",
       "air99869            5\n",
       "air998701           5\n",
       "air998708         4.5\n",
       "air998739     Unrated\n",
       "air998741         4.5\n",
       "air998782         4.5\n",
       "air998810           5\n",
       "air998821           5\n",
       "air998843           5\n",
       "air998887           5\n",
       "air998896     Unrated\n",
       "air998899           5\n",
       "air998937         4.5\n",
       "air999045         4.5\n",
       "air999068           5\n",
       "air999086           5\n",
       "air99913            3\n",
       "air999248           5\n",
       "air999289           4\n",
       "air999297           5\n",
       "air999308           5\n",
       "air999363         4.5\n",
       "air999392           5\n",
       "air999808           5\n",
       "air999809     Unrated\n",
       "air999811           5\n",
       "air999823           5\n",
       "air999977     Unrated\n",
       "Name: rating, dtype: object"
      ]
     },
     "execution_count": 7,
     "metadata": {},
     "output_type": "execute_result"
    }
   ],
   "source": [
    "def include_unrated(rating):\n",
    "    if not np.isfinite(rating):\n",
    "        return 'Unrated'\n",
    "    else:\n",
    "        return rating\n",
    "rawtable.rating.map(include_unrated)"
   ]
  },
  {
   "cell_type": "code",
   "execution_count": 11,
   "metadata": {
    "collapsed": false
   },
   "outputs": [
    {
     "data": {
      "text/plain": [
       "<matplotlib.axes._subplots.AxesSubplot at 0x7fd86c09ecc0>"
      ]
     },
     "execution_count": 11,
     "metadata": {},
     "output_type": "execute_result"
    },
    {
     "data": {
      "image/png": "[encoded data removed]",
      "text/plain": [
       "<matplotlib.figure.Figure at 0x7fd86bf19898>"
      ]
     },
     "metadata": {
      "image/png": {
       "height": 367,
       "width": 494
      }
     },
     "output_type": "display_data"
    }
   ],
   "source": [
    "rawtable.rating.map(include_unrated).value_counts()[:10].plot(kind='bar')"
   ]
  },
  {
   "cell_type": "code",
   "execution_count": 13,
   "metadata": {
    "collapsed": false
   },
   "outputs": [
    {
     "data": {
      "text/plain": [
       "72983"
      ]
     },
     "execution_count": 13,
     "metadata": {},
     "output_type": "execute_result"
    }
   ],
   "source": [
    "len(rawtable)"
   ]
  },
  {
   "cell_type": "code",
   "execution_count": 12,
   "metadata": {
    "collapsed": false
   },
   "outputs": [
    {
     "data": {
      "text/plain": [
       "5.0        31840\n",
       "4.5        18701\n",
       "Unrated    15727\n",
       "4.0         4416\n",
       "3.5          702\n",
       "3.0          425\n",
       "4.8          351\n",
       "4.7          175\n",
       "4.9           97\n",
       "4.4           92\n",
       "4.3           80\n",
       "2.0           68\n",
       "4.1           62\n",
       "4.6           51\n",
       "1.0           46\n",
       "2.5           44\n",
       "3.8           24\n",
       "3.7           16\n",
       "3.4           12\n",
       "4.2           11\n",
       "3.9            7\n",
       "2.8            7\n",
       "3.3            6\n",
       "1.5            4\n",
       "3.1            3\n",
       "2.3            3\n",
       "3.6            3\n",
       "2.4            3\n",
       "2.1            2\n",
       "1.7            1\n",
       "2.7            1\n",
       "1.6            1\n",
       "1.8            1\n",
       "2.6            1\n",
       "dtype: int64"
      ]
     },
     "execution_count": 12,
     "metadata": {},
     "output_type": "execute_result"
    }
   ],
   "source": [
    "rawtable.rating.map(include_unrated).value_counts()"
   ]
  },
  {
   "cell_type": "code",
   "execution_count": 14,
   "metadata": {
    "collapsed": false
   },
   "outputs": [
    {
     "data": {
      "text/plain": [
       "0.21548853842675691"
      ]
     },
     "execution_count": 14,
     "metadata": {},
     "output_type": "execute_result"
    }
   ],
   "source": [
    "15727/72983"
   ]
  },
  {
   "cell_type": "code",
   "execution_count": null,
   "metadata": {
    "collapsed": true
   },
   "outputs": [],
   "source": []
  }
 ],
 "metadata": {
  "kernelspec": {
   "display_name": "Python 3",
   "language": "python",
   "name": "python3"
  },
  "language_info": {
   "codemirror_mode": {
    "name": "ipython",
    "version": 3
   },
   "file_extension": ".py",
   "mimetype": "text/x-python",
   "name": "python",
   "nbconvert_exporter": "python",
   "pygments_lexer": "ipython3",
   "version": "3.4.3"
  }
 },
 "nbformat": 4,
 "nbformat_minor": 0
}
