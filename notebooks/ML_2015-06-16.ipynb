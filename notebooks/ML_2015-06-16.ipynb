{
 "cells": [
  {
   "cell_type": "code",
   "execution_count": 2,
   "metadata": {
    "collapsed": true
   },
   "outputs": [],
   "source": [
    "%matplotlib inline\n",
    "%config InlineBackend.figure_format='retina'\n",
    "import matplotlib\n",
    "import matplotlib.pyplot as plt\n",
    "import pandas as pd\n",
    "import seaborn as sns\n",
    "sns.set_context('notebook')\n",
    "sns.set_style('darkgrid')\n",
    "import sklearn as skl\n",
    "import sklearn.metrics\n",
    "import sklearn.learning_curve\n",
    "import sklearn.ensemble\n",
    "import sklearn.dummy\n",
    "import sklearn.grid_search\n",
    "import sklearn.feature_extraction\n",
    "import sklearn.feature_extraction.text\n",
    "import numpy as np\n",
    "import enchant\n",
    "\n",
    "import sys\n",
    "sys.path = sys.path + ['..']\n",
    "import get_airbnb_data\n",
    "import db\n",
    "import learning\n",
    "import imp\n",
    "imp.reload(learning)\n",
    "from learning import *"
   ]
  },
  {
   "cell_type": "code",
   "execution_count": 3,
   "metadata": {
    "collapsed": true
   },
   "outputs": [],
   "source": [
    "engine = db.create_root_engine()\n",
    "rawtable = pd.io.sql.read_sql_table('listings', engine, index_col='id')\n",
    "Xtr, Xte, ytr, yte = get_training_test_set(rawtable, make_features=make_features3, \n",
    "                                               categorize_rating=categorize_rating2)"
   ]
  },
  {
   "cell_type": "code",
   "execution_count": 4,
   "metadata": {
    "collapsed": true
   },
   "outputs": [],
   "source": [
    "d = enchant.Dict(\"en_US\")\n",
    "tokenizer = skl.feature_extraction.text.CountVectorizer().build_tokenizer()"
   ]
  },
  {
   "cell_type": "code",
   "execution_count": 11,
   "metadata": {
    "collapsed": true
   },
   "outputs": [],
   "source": [
    "from nltk.tag.stanford import NERTagger"
   ]
  },
  {
   "cell_type": "code",
   "execution_count": 12,
   "metadata": {
    "collapsed": false
   },
   "outputs": [],
   "source": [
    "st = NERTagger('../stanford-ner-2015-04-20/classifiers/english.all.3class.distsim.crf.ser.gz',\n",
    "   '../stanford-ner-2015-04-20/stanford-ner.jar')"
   ]
  },
  {
   "cell_type": "code",
   "execution_count": 20,
   "metadata": {
    "collapsed": false
   },
   "outputs": [
    {
     "data": {
      "text/plain": [
       "[[('I', 'O'),\n",
       "  ('am', 'O'),\n",
       "  ('going', 'O'),\n",
       "  ('to', 'O'),\n",
       "  ('Mackenzie', 'PERSON')]]"
      ]
     },
     "execution_count": 20,
     "metadata": {},
     "output_type": "execute_result"
    }
   ],
   "source": [
    "st.tag('I am going to Mackenzie'.split())"
   ]
  },
  {
   "cell_type": "markdown",
   "metadata": {},
   "source": [
    "#TNT Is it better?\n",
    "Named entity recognition does not seem to be removing a lot of misspellings"
   ]
  },
  {
   "cell_type": "code",
   "execution_count": 31,
   "metadata": {
    "collapsed": false
   },
   "outputs": [
    {
     "data": {
      "text/plain": [
       "{'24hr': False,\n",
       " 'AirBnB': False,\n",
       " 'BDFM': False,\n",
       " 'Highline': False,\n",
       " 'HouseRules': False,\n",
       " 'Javits': False,\n",
       " 'NEIGHBOURHOOD': False,\n",
       " 'NQR': False,\n",
       " 'Wifi': False,\n",
       " 'accomodate': False,\n",
       " 'isn': False,\n",
       " 'neighbours': False}"
      ]
     },
     "execution_count": 31,
     "metadata": {},
     "output_type": "execute_result"
    }
   ],
   "source": [
    "{tagged[0]: d.check(tagged[0]) for tagged in st.tag(tokenizer(rawtable.description[2]))[0] \n",
    " if tagged[1] == 'O' and not d.check(tagged[0])}"
   ]
  },
  {
   "cell_type": "code",
   "execution_count": 32,
   "metadata": {
    "collapsed": false,
    "scrolled": true
   },
   "outputs": [
    {
     "data": {
      "text/plain": [
       "{'24hr': False,\n",
       " 'AirBnB': False,\n",
       " 'BDFM': False,\n",
       " 'Highline': False,\n",
       " 'HouseRules': False,\n",
       " 'Javits': False,\n",
       " 'Koreatown': False,\n",
       " 'NEIGHBOURHOOD': False,\n",
       " 'NQR': False,\n",
       " 'Wifi': False,\n",
       " 'accomodate': False,\n",
       " 'isn': False,\n",
       " 'neighbours': False}"
      ]
     },
     "execution_count": 32,
     "metadata": {},
     "output_type": "execute_result"
    }
   ],
   "source": [
    "{word: d.check(word) for word in tokenizer(rawtable.description[2]) if not d.check(word)}"
   ]
  },
  {
   "cell_type": "code",
   "execution_count": 35,
   "metadata": {
    "collapsed": false
   },
   "outputs": [
    {
     "data": {
      "text/plain": [
       "{'Dekalb': False,\n",
       " 'HouseRules': False,\n",
       " 'Stuy': False,\n",
       " 'Wifi': False,\n",
       " 'aren': False,\n",
       " 'doesn': False,\n",
       " 'hasn': False,\n",
       " 'ing': False,\n",
       " 'snuck': False}"
      ]
     },
     "execution_count": 35,
     "metadata": {},
     "output_type": "execute_result"
    }
   ],
   "source": [
    "{tagged[0]: d.check(tagged[0]) for tagged in st.tag(tokenizer(rawtable.description[10]))[0] \n",
    " if tagged[1] == 'O' and not d.check(tagged[0])}"
   ]
  },
  {
   "cell_type": "code",
   "execution_count": 39,
   "metadata": {
    "collapsed": false,
    "scrolled": true
   },
   "outputs": [
    {
     "data": {
      "text/plain": [
       "{'Dekalb': False,\n",
       " 'HouseRules': False,\n",
       " 'Stuy': False,\n",
       " 'Wifi': False,\n",
       " 'aren': False,\n",
       " 'doesn': False,\n",
       " 'hasn': False,\n",
       " 'ing': False,\n",
       " 'snuck': False}"
      ]
     },
     "execution_count": 39,
     "metadata": {},
     "output_type": "execute_result"
    }
   ],
   "source": [
    "{word: d.check(word) for word in tokenizer(rawtable.description[10]) if not d.check(word)}"
   ]
  },
  {
   "cell_type": "code",
   "execution_count": 42,
   "metadata": {
    "collapsed": false
   },
   "outputs": [
    {
     "data": {
      "text/plain": [
       "True"
      ]
     },
     "execution_count": 42,
     "metadata": {},
     "output_type": "execute_result"
    }
   ],
   "source": [
    "d.check(tokenizer(rawtable.description[10])[0] )"
   ]
  },
  {
   "cell_type": "code",
   "execution_count": 67,
   "metadata": {
    "collapsed": true
   },
   "outputs": [],
   "source": [
    "def count_misspellings(text):\n",
    "    tokenize = skl.feature_extraction.text.CountVectorizer().build_tokenizer()\n",
    "    return sum(map(lambda word: not d.check(word), tokenize(text)))"
   ]
  },
  {
   "cell_type": "code",
   "execution_count": 69,
   "metadata": {
    "collapsed": false,
    "scrolled": true
   },
   "outputs": [
    {
     "data": {
      "text/plain": [
       "16"
      ]
     },
     "execution_count": 69,
     "metadata": {},
     "output_type": "execute_result"
    }
   ],
   "source": [
    "count_misspellings(rawtable.description[0])"
   ]
  },
  {
   "cell_type": "code",
   "execution_count": 61,
   "metadata": {
    "collapsed": false,
    "scrolled": true
   },
   "outputs": [
    {
     "data": {
      "text/plain": [
       "[('manhattan', False),\n",
       " ('cuban', False),\n",
       " ('bs', False),\n",
       " ('puerto', False),\n",
       " ('rican', False),\n",
       " ('thai', False),\n",
       " ('manhattan', False),\n",
       " ('HouseRules', False)]"
      ]
     },
     "execution_count": 61,
     "metadata": {},
     "output_type": "execute_result"
    }
   ],
   "source": [
    "[(word, d.check(word)) for word in tokenizer(rawtable.description[15]) if not d.check(word)]"
   ]
  },
  {
   "cell_type": "code",
   "execution_count": 62,
   "metadata": {
    "collapsed": false,
    "scrolled": true
   },
   "outputs": [
    {
     "data": {
      "text/plain": [
       "{'HouseRules': False,\n",
       " 'bs': False,\n",
       " 'cuban': False,\n",
       " 'manhattan': False,\n",
       " 'puerto': False,\n",
       " 'rican': False,\n",
       " 'thai': False}"
      ]
     },
     "execution_count": 62,
     "metadata": {},
     "output_type": "execute_result"
    }
   ],
   "source": [
    "{word: d.check(word) for word in tokenizer(rawtable.description[15]) if not d.check(word)}"
   ]
  },
  {
   "cell_type": "code",
   "execution_count": 56,
   "metadata": {
    "collapsed": false,
    "scrolled": true
   },
   "outputs": [
    {
     "data": {
      "text/plain": [
       "['Right',\n",
       " 'in',\n",
       " 'the',\n",
       " 'heart',\n",
       " 'of',\n",
       " 'manhattan',\n",
       " 'gastronomic',\n",
       " 'and',\n",
       " 'cultural',\n",
       " 'center',\n",
       " 'of',\n",
       " 'the',\n",
       " 'east',\n",
       " 'village',\n",
       " 'right',\n",
       " 'in',\n",
       " 'the',\n",
       " 'middle',\n",
       " 'of',\n",
       " 'all',\n",
       " 'the',\n",
       " 'action',\n",
       " 'Finally',\n",
       " 'room',\n",
       " 'not',\n",
       " 'the',\n",
       " 'size',\n",
       " 'of',\n",
       " 'closet',\n",
       " 'in',\n",
       " 'Manhattan',\n",
       " 'but',\n",
       " 'very',\n",
       " 'spacious',\n",
       " 'area',\n",
       " 'with',\n",
       " 'high',\n",
       " 'ceilings',\n",
       " 'The',\n",
       " 'apartment',\n",
       " 'is',\n",
       " 'located',\n",
       " 'in',\n",
       " 'the',\n",
       " 'middle',\n",
       " 'of',\n",
       " 'the',\n",
       " 'historic',\n",
       " 'neighborhood',\n",
       " 'known',\n",
       " 'as',\n",
       " 'the',\n",
       " 'east',\n",
       " 'village',\n",
       " 'you',\n",
       " 'will',\n",
       " 'be',\n",
       " 'surrounded',\n",
       " 'by',\n",
       " 'restaurants',\n",
       " 'lounges',\n",
       " 'and',\n",
       " 'bars',\n",
       " 'with',\n",
       " 'an',\n",
       " 'incredible',\n",
       " 'diversity',\n",
       " 'of',\n",
       " 'cuisines',\n",
       " 'from',\n",
       " 'all',\n",
       " 'over',\n",
       " 'the',\n",
       " 'world',\n",
       " 'going',\n",
       " 'from',\n",
       " 'home',\n",
       " 'style',\n",
       " 'affordable',\n",
       " 'to',\n",
       " 'outright',\n",
       " 'high',\n",
       " 'end',\n",
       " 'fine',\n",
       " 'dining',\n",
       " 'Bars',\n",
       " 'that',\n",
       " 'range',\n",
       " 'from',\n",
       " '1940',\n",
       " 'cuban',\n",
       " 'themed',\n",
       " 'exclusive',\n",
       " 'speakeasy',\n",
       " 'to',\n",
       " 'no',\n",
       " 'bs',\n",
       " 'dive',\n",
       " 'bars',\n",
       " 'This',\n",
       " 'is',\n",
       " 'the',\n",
       " 'apartment',\n",
       " 'for',\n",
       " 'those',\n",
       " 'travelers',\n",
       " 'that',\n",
       " 'seek',\n",
       " 'to',\n",
       " 'be',\n",
       " 'in',\n",
       " 'the',\n",
       " 'center',\n",
       " 'of',\n",
       " 'all',\n",
       " 'action',\n",
       " 'and',\n",
       " 'within',\n",
       " 'walking',\n",
       " 'distance',\n",
       " 'of',\n",
       " 'everything',\n",
       " 'you',\n",
       " 'would',\n",
       " 'ever',\n",
       " 'need',\n",
       " 'The',\n",
       " 'building',\n",
       " 'itself',\n",
       " 'is',\n",
       " 'classical',\n",
       " 'NY',\n",
       " 'If',\n",
       " 'your',\n",
       " 'plan',\n",
       " 'is',\n",
       " 'to',\n",
       " 'lounge',\n",
       " 'around',\n",
       " 'at',\n",
       " 'home',\n",
       " 'with',\n",
       " 'peace',\n",
       " 'and',\n",
       " 'quiet',\n",
       " 'this',\n",
       " 'may',\n",
       " 'not',\n",
       " 'be',\n",
       " 'for',\n",
       " 'you',\n",
       " 'Although',\n",
       " 'the',\n",
       " 'apartment',\n",
       " 'has',\n",
       " 'full',\n",
       " 'kitchen',\n",
       " 'we',\n",
       " 'don',\n",
       " 'actually',\n",
       " 'have',\n",
       " 'many',\n",
       " 'cooking',\n",
       " 'utensils',\n",
       " 'as',\n",
       " 'there',\n",
       " 'is',\n",
       " 'never',\n",
       " 'need',\n",
       " 'to',\n",
       " 'cook',\n",
       " 'at',\n",
       " 'home',\n",
       " 'since',\n",
       " 'we',\n",
       " 'have',\n",
       " 'everything',\n",
       " 'from',\n",
       " 'puerto',\n",
       " 'rican',\n",
       " 'home',\n",
       " 'cooked',\n",
       " 'meal',\n",
       " 'in',\n",
       " 'one',\n",
       " 'corner',\n",
       " 'to',\n",
       " 'generously',\n",
       " 'sized',\n",
       " 'thai',\n",
       " 'in',\n",
       " 'the',\n",
       " 'other',\n",
       " 'and',\n",
       " 'the',\n",
       " 'always',\n",
       " 'quick',\n",
       " 'corner',\n",
       " 'deli',\n",
       " 'am',\n",
       " 'constantly',\n",
       " 'traveling',\n",
       " 'so',\n",
       " 'will',\n",
       " 'not',\n",
       " 'get',\n",
       " 'in',\n",
       " 'your',\n",
       " 'way',\n",
       " 'this',\n",
       " 'will',\n",
       " 'feel',\n",
       " 'more',\n",
       " 'like',\n",
       " 'your',\n",
       " 'home',\n",
       " 'than',\n",
       " 'mine',\n",
       " 'The',\n",
       " 'train',\n",
       " 'and',\n",
       " 'trains',\n",
       " 'are',\n",
       " 'close',\n",
       " 'by',\n",
       " 'few',\n",
       " 'blocks',\n",
       " 'away',\n",
       " 'The',\n",
       " 'metro',\n",
       " 'will',\n",
       " 'take',\n",
       " 'you',\n",
       " 'anywhere',\n",
       " 'in',\n",
       " 'the',\n",
       " 'city',\n",
       " 'Right',\n",
       " 'in',\n",
       " 'the',\n",
       " 'heart',\n",
       " 'of',\n",
       " 'manhattan',\n",
       " 'gastronomic',\n",
       " 'and',\n",
       " 'cultural',\n",
       " 'center',\n",
       " 'of',\n",
       " 'the',\n",
       " 'east',\n",
       " 'village',\n",
       " 'right',\n",
       " 'in',\n",
       " 'the',\n",
       " 'middle',\n",
       " 'of',\n",
       " 'all',\n",
       " 'the',\n",
       " 'action',\n",
       " 'Finally',\n",
       " 'room',\n",
       " 'not',\n",
       " 'the',\n",
       " 'size',\n",
       " 'of',\n",
       " 'closet',\n",
       " 'in',\n",
       " 'Manhattan',\n",
       " 'but',\n",
       " 'very',\n",
       " 'spacious',\n",
       " 'area',\n",
       " 'with',\n",
       " 'high',\n",
       " 'ceilings',\n",
       " 'HouseRules',\n",
       " 'Be',\n",
       " 'clean',\n",
       " 'and',\n",
       " 'pick',\n",
       " 'up',\n",
       " 'after',\n",
       " 'yourself',\n",
       " 'Have',\n",
       " 'fun',\n",
       " 'and',\n",
       " 'enjoy',\n",
       " 'the',\n",
       " 'city',\n",
       " 'as',\n",
       " 'local']"
      ]
     },
     "execution_count": 56,
     "metadata": {},
     "output_type": "execute_result"
    }
   ],
   "source": [
    "tokenizer(rawtable.description[15])"
   ]
  },
  {
   "cell_type": "markdown",
   "metadata": {},
   "source": [
    "##SKlearn's tokenizer seems to be better than enchant's\n",
    "e.g. \"181th\""
   ]
  },
  {
   "cell_type": "code",
   "execution_count": 79,
   "metadata": {
    "collapsed": false
   },
   "outputs": [
    {
     "name": "stdout",
     "output_type": "stream",
     "text": [
      "WiFi\n",
      "Tryon\n",
      "Tryon\n",
      "Jumel\n",
      "Inwood\n",
      "WiFi\n",
      "Tryon\n",
      "Tryon\n",
      "Jumel\n",
      "HouseRules\n",
      "airbnb\n",
      "airbnb\n"
     ]
    }
   ],
   "source": [
    "from enchant.checker import SpellChecker\n",
    "chkr = SpellChecker(\"en_US\")\n",
    "chkr.set_text(rawtable.description[0])\n",
    "for word in chkr: print(word.word)"
   ]
  },
  {
   "cell_type": "code",
   "execution_count": 77,
   "metadata": {
    "collapsed": false,
    "scrolled": true
   },
   "outputs": [
    {
     "data": {
      "text/plain": [
       "[('WiFi', False),\n",
       " ('Tryon', False),\n",
       " ('181th', False),\n",
       " ('42th', False),\n",
       " ('Tryon', False),\n",
       " ('Jumel', False),\n",
       " ('Inwood', False),\n",
       " ('WiFi', False),\n",
       " ('Tryon', False),\n",
       " ('181th', False),\n",
       " ('42th', False),\n",
       " ('Tryon', False),\n",
       " ('Jumel', False),\n",
       " ('HouseRules', False),\n",
       " ('airbnb', False),\n",
       " ('airbnb', False)]"
      ]
     },
     "execution_count": 77,
     "metadata": {},
     "output_type": "execute_result"
    }
   ],
   "source": [
    "[(word, d.check(word)) for word in tokenizer(rawtable.description[0]) if not d.check(word)]"
   ]
  }
 ],
 "metadata": {
  "kernelspec": {
   "display_name": "Python 3",
   "language": "python",
   "name": "python3"
  },
  "language_info": {
   "codemirror_mode": {
    "name": "ipython",
    "version": 3
   },
   "file_extension": ".py",
   "mimetype": "text/x-python",
   "name": "python",
   "nbconvert_exporter": "python",
   "pygments_lexer": "ipython3",
   "version": "3.4.3"
  }
 },
 "nbformat": 4,
 "nbformat_minor": 0
}
