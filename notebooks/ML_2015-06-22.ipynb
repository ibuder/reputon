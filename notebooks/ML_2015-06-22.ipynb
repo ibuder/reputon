{
 "cells": [
  {
   "cell_type": "markdown",
   "metadata": {},
   "source": [
    "#Understanding per-example feature importance"
   ]
  },
  {
   "cell_type": "code",
   "execution_count": 1,
   "metadata": {
    "collapsed": true
   },
   "outputs": [],
   "source": [
    "%matplotlib inline\n",
    "%config InlineBackend.figure_format='retina'\n",
    "import matplotlib\n",
    "import matplotlib.pyplot as plt\n",
    "import pandas as pd\n",
    "import seaborn as sns\n",
    "sns.set_context('notebook')\n",
    "sns.set_style('darkgrid')\n",
    "import sklearn as skl\n",
    "import sklearn.metrics\n",
    "import sklearn.learning_curve\n",
    "import sklearn.ensemble\n",
    "import sklearn.dummy\n",
    "import sklearn.grid_search\n",
    "import sklearn.feature_extraction\n",
    "import sklearn.feature_extraction.text\n",
    "import numpy as np\n",
    "import pickle\n",
    "\n",
    "import sys\n",
    "sys.path = sys.path + ['..']\n",
    "import get_airbnb_data\n",
    "import db\n",
    "import learning\n",
    "import imp\n",
    "imp.reload(learning)\n",
    "from learning import *"
   ]
  },
  {
   "cell_type": "code",
   "execution_count": 2,
   "metadata": {
    "collapsed": false
   },
   "outputs": [],
   "source": [
    "clf = pickle.load(open('../pipe2.pkl', 'rb'))"
   ]
  },
  {
   "cell_type": "code",
   "execution_count": 3,
   "metadata": {
    "collapsed": true
   },
   "outputs": [],
   "source": [
    "engine = db.create_root_engine()\n",
    "rawtable = pd.io.sql.read_sql_table('listings', engine, index_col='id')\n",
    "Xtr, Xte, ytr, yte = get_training_test_set(rawtable, make_features=make_features5, \n",
    "                                               categorize_rating=categorize_rating5)"
   ]
  },
  {
   "cell_type": "code",
   "execution_count": 4,
   "metadata": {
    "collapsed": false
   },
   "outputs": [],
   "source": [
    "single_example = Xtr.iloc[0, :]\n",
    "comparison_examples = Xtr.iloc[1:101, :].reset_index(drop=True)  # Will need to select these randomly\n",
    "#comparison_examples"
   ]
  },
  {
   "cell_type": "code",
   "execution_count": 5,
   "metadata": {
    "collapsed": true
   },
   "outputs": [],
   "source": [
    "single_proba = clf.predict_proba(single_example)\n",
    "class_ = np.argmax(single_proba)"
   ]
  },
  {
   "cell_type": "code",
   "execution_count": 18,
   "metadata": {
    "collapsed": false
   },
   "outputs": [
    {
     "data": {
      "text/plain": [
       "array([0, 0, 0, 0, 0, 0, 0, 0, 0, 0, 0, 0, 0, 0, 0, 0, 0, 0, 0, 0, 0, 0, 0,\n",
       "       0, 0, 0, 0, 0, 0, 0, 0, 0, 0, 0, 0, 0, 0, 0, 0, 0, 0, 0, 0, 0, 0, 0,\n",
       "       0, 0, 0, 0, 0, 0, 0, 0, 0, 0, 0, 0, 0, 0, 0, 0, 0, 0, 0, 0, 0, 0, 0,\n",
       "       0, 0, 0, 0, 0, 0, 0, 0, 0, 0, 0, 0, 0, 0, 0, 0, 0, 0, 0, 0, 0, 0, 0,\n",
       "       0, 0, 0, 0, 0, 0, 0, 0])"
      ]
     },
     "execution_count": 18,
     "metadata": {},
     "output_type": "execute_result"
    }
   ],
   "source": [
    "np.repeat(0, 100)"
   ]
  },
  {
   "cell_type": "code",
   "execution_count": 29,
   "metadata": {
    "collapsed": false
   },
   "outputs": [
    {
     "data": {
      "text/plain": [
       "62"
      ]
     },
     "execution_count": 29,
     "metadata": {},
     "output_type": "execute_result"
    }
   ],
   "source": [
    "Xtr.columns.get_loc('lat')"
   ]
  },
  {
   "cell_type": "code",
   "execution_count": 44,
   "metadata": {
    "collapsed": false
   },
   "outputs": [
    {
     "data": {
      "text/plain": [
       "'beds'"
      ]
     },
     "execution_count": 44,
     "metadata": {},
     "output_type": "execute_result"
    }
   ],
   "source": [
    "Xtr.columns[52]"
   ]
  },
  {
   "cell_type": "code",
   "execution_count": 42,
   "metadata": {
    "collapsed": true
   },
   "outputs": [],
   "source": [
    "column = 52"
   ]
  },
  {
   "cell_type": "code",
   "execution_count": 45,
   "metadata": {
    "collapsed": true
   },
   "outputs": [
    {
     "data": {
      "text/plain": [
       "amenity0                          1\n",
       "amenity1                          0\n",
       "amenity2                          1\n",
       "amenity3                          0\n",
       "amenity4                          0\n",
       "amenity5                          0\n",
       "amenity6                          0\n",
       "amenity7                          0\n",
       "amenity8                          0\n",
       "amenity9                          0\n",
       "amenity10                         0\n",
       "amenity11                         0\n",
       "amenity12                         0\n",
       "amenity13                         0\n",
       "amenity14                         0\n",
       "amenity15                         1\n",
       "amenity16                         0\n",
       "amenity17                         0\n",
       "amenity18                         0\n",
       "amenity19                         0\n",
       "amenity20                         0\n",
       "amenity21                         1\n",
       "amenity22                         1\n",
       "amenity23                         0\n",
       "amenity24                         0\n",
       "amenity25                         0\n",
       "amenity26                         0\n",
       "amenity27                         0\n",
       "amenity28                         0\n",
       "amenity29                         0\n",
       "                               ... \n",
       "monthly                        4000\n",
       "nightly                         160\n",
       "weekend                         160\n",
       "weekly                         1000\n",
       "descriptionLength              1810\n",
       "headingLength                    31\n",
       "photosCommentsLength            253\n",
       "features2_categorical0            0\n",
       "features2_categorical1            0\n",
       "features2_categorical2            1\n",
       "features2_categorical3            0\n",
       "features2_categorical4            0\n",
       "features2_categorical5            0\n",
       "features2_categorical6            0\n",
       "features2_categorical7            0\n",
       "features2_categorical8            0\n",
       "features2_categorical9            1\n",
       "features2_categorical10           0\n",
       "features2_categorical11           1\n",
       "features2_categorical12           0\n",
       "features2_categorical13           0\n",
       "features2_categorical14           0\n",
       "features2_categorical15           0\n",
       "features2_categorical16           1\n",
       "features2_categorical17           0\n",
       "features2_categorical18           0\n",
       "nDescriptionMisspellings         11\n",
       "homeValueIndex                    0\n",
       "medianListPricePerSqFt            0\n",
       "medianSingleFamilyHomeValue       0\n",
       "Name: air2686825, dtype: float64"
      ]
     },
     "execution_count": 45,
     "metadata": {},
     "output_type": "execute_result"
    }
   ],
   "source": [
    "single_example"
   ]
  },
  {
   "cell_type": "code",
   "execution_count": 6,
   "metadata": {
    "collapsed": true
   },
   "outputs": [],
   "source": [
    "importances = []\n",
    "for column in range(97):\n",
    "    # Need to reset index because we are combining data with different id so don't want to align by index\n",
    "    scrambled_examples = pd.DataFrame(single_example, copy=True).T.iloc[np.repeat(0, 100), :].reset_index(drop=True)\n",
    "    scrambled_examples.iloc[:, column] = comparison_examples.iloc[:, column]\n",
    "# Either big spread or mean offset of scrambled predictions - normal prediction means feature was important\n",
    "#   so take RMS\n",
    "    importances.append(np.mean((clf.predict_proba(scrambled_examples)[:, class_] - single_proba[0, class_]) ** 2))"
   ]
  },
  {
   "cell_type": "code",
   "execution_count": 7,
   "metadata": {
    "collapsed": false,
    "scrolled": true
   },
   "outputs": [
    {
     "name": "stdout",
     "output_type": "stream",
     "text": [
      "amenity0 1.10987136149e-06\n",
      "amenity1 5.10821643905e-05\n",
      "amenity2 0.0\n",
      "amenity3 0.0\n",
      "amenity4 0.000459181475414\n",
      "amenity5 0.0\n",
      "amenity6 0.0\n",
      "amenity7 0.0\n",
      "amenity8 0.000252177160473\n",
      "amenity9 5.09399247278e-05\n",
      "amenity10 4.3646047005e-05\n",
      "amenity11 4.98416906454e-06\n",
      "amenity12 0.0\n",
      "amenity13 0.0\n",
      "amenity14 0.0\n",
      "amenity15 1.49525071936e-06\n",
      "amenity16 0.000327232256871\n",
      "amenity17 0.000222851496352\n",
      "amenity18 0.0\n",
      "amenity19 1.1512926355e-06\n",
      "amenity20 4.02952422425e-06\n",
      "amenity21 0.000163616128436\n",
      "amenity22 4.66990248223e-06\n",
      "amenity23 0.0\n",
      "amenity24 0.0\n",
      "amenity25 0.0\n",
      "amenity26 0.0\n",
      "amenity27 0.0\n",
      "amenity28 0.0\n",
      "amenity29 0.0\n",
      "amenity30 0.0\n",
      "amenity31 0.0\n",
      "amenity32 0.0\n",
      "amenity33 0.0\n",
      "amenity34 0.0\n",
      "amenity35 0.0\n",
      "amenity36 0.0\n",
      "amenity37 0.0\n",
      "amenity38 0.0\n",
      "amenity39 0.0\n",
      "amenity40 0.0\n",
      "amenity41 0.0\n",
      "amenity42 0.0\n",
      "amenity43 0.0\n",
      "amenity44 0.0\n",
      "amenity45 0.0\n",
      "amenity46 0.0\n",
      "amenity47 0.0\n",
      "amenity48 0.0\n",
      "amenity49 0.0\n",
      "bathrooms 0.000321032407587\n",
      "bedrooms 0.000143634946165\n",
      "beds 0.000258744714476\n",
      "instantBookable 7.27182793048e-05\n",
      "isCalAvailable 0.0\n",
      "lastUpdatedAt 0.00012406883102\n",
      "occupancy 0.00110150211449\n",
      "securityDeposit 0.000178734271722\n",
      "size 9.50120507516e-05\n",
      "extraGuestsFee 0.000283345217015\n",
      "extraGuestsAfter 0.000315551847067\n",
      "fee0 0.000488383301573\n",
      "lat 0.000201456133772\n",
      "lng 0.00796038221631\n",
      "nPhotos 0.000267823744828\n",
      "maxNight 0.000234860918164\n",
      "minNight 0.000227929356581\n",
      "monthly 0.000512530322182\n",
      "nightly 0.000384741848394\n",
      "weekend 0.000637519572844\n",
      "weekly 0.000356317744156\n",
      "descriptionLength 0.000269214028221\n",
      "headingLength 3.08482890087e-05\n",
      "photosCommentsLength 0.00188532284066\n",
      "features2_categorical0 0.0\n",
      "features2_categorical1 7.47184397156e-05\n",
      "features2_categorical2 2.67967369422e-05\n",
      "features2_categorical3 0.0\n",
      "features2_categorical4 0.0\n",
      "features2_categorical5 0.0\n",
      "features2_categorical6 5.83796164463e-05\n",
      "features2_categorical7 0.0\n",
      "features2_categorical8 2.09335100711e-05\n",
      "features2_categorical9 0.000389608524594\n",
      "features2_categorical10 0.0\n",
      "features2_categorical11 0.000862704590172\n",
      "features2_categorical12 2.49208453227e-07\n",
      "features2_categorical13 0.0\n",
      "features2_categorical14 0.00103466766163\n",
      "features2_categorical15 2.49208453227e-07\n",
      "features2_categorical16 0.0\n",
      "features2_categorical17 0.000514839836071\n",
      "features2_categorical18 9.33980496445e-06\n",
      "nDescriptionMisspellings 0.00059509491772\n",
      "homeValueIndex 0.000520364065239\n",
      "medianListPricePerSqFt 0.00071972454551\n",
      "medianSingleFamilyHomeValue 0.00101765117039\n"
     ]
    }
   ],
   "source": [
    "for i, importance in enumerate(importances):\n",
    "    print(Xtr.columns[i], importance)"
   ]
  },
  {
   "cell_type": "code",
   "execution_count": 8,
   "metadata": {
    "collapsed": false
   },
   "outputs": [
    {
     "data": {
      "text/plain": [
       "63"
      ]
     },
     "execution_count": 8,
     "metadata": {},
     "output_type": "execute_result"
    }
   ],
   "source": [
    "np.argmax(importances)"
   ]
  },
  {
   "cell_type": "code",
   "execution_count": 12,
   "metadata": {
    "collapsed": false
   },
   "outputs": [
    {
     "data": {
      "text/plain": [
       "array([63, 73, 56, 88, 96, 85, 95, 69, 93, 94, 91, 67, 61,  4, 83, 68, 70,\n",
       "       16, 50, 60, 59, 71, 64, 52,  8, 65, 66, 17, 62, 57, 21, 51, 55, 58,\n",
       "       75, 53, 80,  1,  9, 10, 72, 76, 82, 92, 11, 22, 20, 15, 19,  0, 89,\n",
       "       86, 46, 12, 54, 74, 18, 77, 78, 79, 14, 13, 84, 81, 47, 87,  7,  6,\n",
       "        5,  3,  2, 90, 49, 23, 45, 35, 44, 43, 42, 41, 40, 39, 38, 37, 36,\n",
       "       34, 24, 33, 32, 31, 30, 29, 28, 27, 26, 25, 48])"
      ]
     },
     "execution_count": 12,
     "metadata": {},
     "output_type": "execute_result"
    }
   ],
   "source": [
    "np.argsort(importances)[::-1]"
   ]
  }
 ],
 "metadata": {
  "kernelspec": {
   "display_name": "Python 3",
   "language": "python",
   "name": "python3"
  },
  "language_info": {
   "codemirror_mode": {
    "name": "ipython",
    "version": 3
   },
   "file_extension": ".py",
   "mimetype": "text/x-python",
   "name": "python",
   "nbconvert_exporter": "python",
   "pygments_lexer": "ipython3",
   "version": "3.4.3"
  }
 },
 "nbformat": 4,
 "nbformat_minor": 0
}
